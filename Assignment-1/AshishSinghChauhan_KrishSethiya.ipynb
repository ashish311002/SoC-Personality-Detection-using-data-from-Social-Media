{
  "nbformat": 4,
  "nbformat_minor": 0,
  "metadata": {
    "colab": {
      "name": "200020031_AshishSinghChauhan.ipynb",
      "provenance": [],
      "collapsed_sections": []
    },
    "kernelspec": {
      "name": "python3",
      "display_name": "Python 3"
    },
    "language_info": {
      "name": "python"
    }
  },
  "cells": [
    {
      "cell_type": "markdown",
      "source": [
        "# NUMPY"
      ],
      "metadata": {
        "id": "XKm5wF7hi8L3"
      }
    },
    {
      "cell_type": "markdown",
      "source": [
        "a"
      ],
      "metadata": {
        "id": "4LI-rbdujH5e"
      }
    },
    {
      "cell_type": "code",
      "source": [
        "import numpy as np\n",
        "import pandas as pd"
      ],
      "metadata": {
        "id": "o3ZE-YiKi-hn"
      },
      "execution_count": 2,
      "outputs": []
    },
    {
      "cell_type": "code",
      "source": [
        "ar1=np.array([0,1,2,3,4,5])\n",
        "ar2=np.array([4,5,6,7,8,9])\n",
        "print(np.intersect1d(ar1,ar2))"
      ],
      "metadata": {
        "colab": {
          "base_uri": "https://localhost:8080/"
        },
        "id": "OiRuBm2Hi-rY",
        "outputId": "2fc8a396-cd45-4202-9a16-552009d8a754"
      },
      "execution_count": 3,
      "outputs": [
        {
          "output_type": "stream",
          "name": "stdout",
          "text": [
            "[4 5]\n"
          ]
        }
      ]
    },
    {
      "cell_type": "markdown",
      "source": [
        "b"
      ],
      "metadata": {
        "id": "Su7Bu_Cpkf70"
      }
    },
    {
      "cell_type": "code",
      "source": [
        "ar1=np.array([0,1,2,3,4,5])\n",
        "ar2=np.array([4,5,6,7,8,9])\n",
        "print(np.array_equal(ar1,ar2))"
      ],
      "metadata": {
        "colab": {
          "base_uri": "https://localhost:8080/"
        },
        "id": "Jfr3mwxYi-yR",
        "outputId": "1f8c0dd2-b0f6-4f7d-b6bc-57eac0f8e924"
      },
      "execution_count": 4,
      "outputs": [
        {
          "output_type": "stream",
          "name": "stdout",
          "text": [
            "False\n"
          ]
        }
      ]
    },
    {
      "cell_type": "markdown",
      "source": [
        "c"
      ],
      "metadata": {
        "id": "8NB-GLaRogK8"
      }
    },
    {
      "cell_type": "code",
      "source": [
        "ar1=np.array([0,1,2,3,4,5])\n",
        "ar2=np.array([4,5,6,7,8,9])\n",
        "print((ar1+ar2)*(-0.5*ar1))"
      ],
      "metadata": {
        "colab": {
          "base_uri": "https://localhost:8080/"
        },
        "id": "7AGSGsJfi-3Q",
        "outputId": "d514f38b-f7f8-41c4-9798-4e9651a6127e"
      },
      "execution_count": 5,
      "outputs": [
        {
          "output_type": "stream",
          "name": "stdout",
          "text": [
            "[ -0.  -3.  -8. -15. -24. -35.]\n"
          ]
        }
      ]
    },
    {
      "cell_type": "code",
      "source": [
        "a=np.random.random((10,2))\n",
        "x,y=a[:,0],a[:,1]\n",
        "r=np.sqrt(x**2+y**2)\n",
        "theta=np.arctan(y,x)\n",
        "print(r)\n",
        "print(theta)\n"
      ],
      "metadata": {
        "colab": {
          "base_uri": "https://localhost:8080/"
        },
        "id": "y1lEEf5qohNY",
        "outputId": "76413265-c807-4e2e-bc84-078e1aef73c1"
      },
      "execution_count": 6,
      "outputs": [
        {
          "output_type": "stream",
          "name": "stdout",
          "text": [
            "[0.65241841 0.67999969 0.04729677 0.70936065 0.92103522 1.00782333\n",
            " 1.06618587 1.08432728 0.46629062 0.27878538]\n",
            "[0.0677876  0.59394767 0.0124864  0.60371657 0.53965756 0.7853532\n",
            " 0.55688024 0.75343768 0.06408873 0.21744931]\n"
          ]
        }
      ]
    },
    {
      "cell_type": "markdown",
      "source": [
        "# PANDAS"
      ],
      "metadata": {
        "id": "Jv0O4tTAuVag"
      }
    },
    {
      "cell_type": "markdown",
      "source": [
        "a)"
      ],
      "metadata": {
        "id": "Wa4t6RVFuYUN"
      }
    },
    {
      "cell_type": "code",
      "source": [
        "df = pd.DataFrame({'grps': list('aaabbcaabcccbbc'), \n",
        "                   'vals': [12,345,3,1,45,14,4,52,54,23,235,21,57,3,87]})\n",
        "print(df.nunique())"
      ],
      "metadata": {
        "colab": {
          "base_uri": "https://localhost:8080/"
        },
        "id": "8EpscsQKuVBD",
        "outputId": "b299bf11-bfe6-4067-db79-682175a99de0"
      },
      "execution_count": 7,
      "outputs": [
        {
          "output_type": "stream",
          "name": "stdout",
          "text": [
            "grps     3\n",
            "vals    14\n",
            "dtype: int64\n"
          ]
        }
      ]
    },
    {
      "cell_type": "markdown",
      "source": [
        "b"
      ],
      "metadata": {
        "id": "sMI51Y99w0B3"
      }
    },
    {
      "cell_type": "code",
      "source": [
        "df = pd.DataFrame(np.random.random(size=(5, 3)))\n",
        "print(df)\n",
        "mean=df.mean(axis=1)\n",
        "print(mean)\n",
        "df[0]=df.iloc[:,0]-mean\n",
        "df[1]=df.iloc[:,1]-mean\n",
        "df[2]=df.iloc[:,2]-mean\n",
        "print(df)"
      ],
      "metadata": {
        "colab": {
          "base_uri": "https://localhost:8080/"
        },
        "id": "4fJ0ZDgHuaY7",
        "outputId": "1c2be434-bea3-4fc5-9c94-d2156e993543"
      },
      "execution_count": 17,
      "outputs": [
        {
          "output_type": "stream",
          "name": "stdout",
          "text": [
            "          0         1         2\n",
            "0  0.172845  0.028870  0.682964\n",
            "1  0.218516  0.226458  0.366929\n",
            "2  0.671887  0.409205  0.427131\n",
            "3  0.295382  0.759811  0.958750\n",
            "4  0.559620  0.555158  0.772910\n",
            "0    0.294893\n",
            "1    0.270634\n",
            "2    0.502741\n",
            "3    0.671314\n",
            "4    0.629230\n",
            "dtype: float64\n",
            "          0         1         2\n",
            "0 -0.122048 -0.266023  0.388071\n",
            "1 -0.052118 -0.044177  0.096295\n",
            "2  0.169146 -0.093536 -0.075610\n",
            "3 -0.375932  0.088497  0.287436\n",
            "4 -0.069610 -0.074071  0.143681\n"
          ]
        }
      ]
    },
    {
      "cell_type": "markdown",
      "source": [
        "c"
      ],
      "metadata": {
        "id": "JljInpM_3Twb"
      }
    },
    {
      "cell_type": "code",
      "source": [
        "df = pd.DataFrame({'grps': list('aaabbcaabcccbbc'), \n",
        "                   'vals': [12,345,3,1,45,14,4,52,54,23,235,21,57,3,87]})\n",
        "dfa=df[df['grps']=='a']\n",
        "dfb=df[df['grps']=='b']\n",
        "dfc=df[df['grps']=='c']\n",
        "dfasorted=dfa.sort_values(by='vals',ascending=False)\n",
        "dfbsorted=dfb.sort_values(by='vals',ascending=False)\n",
        "dfcsorted=dfc.sort_values(by='vals',ascending=False)\n",
        "\n",
        "print('a: ', dfasorted.iloc[0:3,1].sum())\n",
        "print('b: ', dfbsorted.iloc[0:3,1].sum())\n",
        "print('c: ', dfcsorted.iloc[0:3,1].sum())"
      ],
      "metadata": {
        "colab": {
          "base_uri": "https://localhost:8080/"
        },
        "id": "ijF5-thuuaeb",
        "outputId": "57787b5a-5bbd-4616-98ba-bf946e276148"
      },
      "execution_count": 26,
      "outputs": [
        {
          "output_type": "stream",
          "name": "stdout",
          "text": [
            "a:  409\n",
            "b:  156\n",
            "c:  345\n"
          ]
        }
      ]
    },
    {
      "cell_type": "code",
      "source": [
        ""
      ],
      "metadata": {
        "id": "u_5-JcXEuaiq"
      },
      "execution_count": null,
      "outputs": []
    },
    {
      "cell_type": "code",
      "source": [
        ""
      ],
      "metadata": {
        "id": "kfMoI1Qauamn"
      },
      "execution_count": null,
      "outputs": []
    },
    {
      "cell_type": "code",
      "source": [
        ""
      ],
      "metadata": {
        "id": "jzlk-6m8uaqp"
      },
      "execution_count": null,
      "outputs": []
    },
    {
      "cell_type": "code",
      "source": [
        ""
      ],
      "metadata": {
        "id": "p_T1twTDuauk"
      },
      "execution_count": null,
      "outputs": []
    },
    {
      "cell_type": "code",
      "source": [
        ""
      ],
      "metadata": {
        "id": "Z50OfH4Auaxw"
      },
      "execution_count": null,
      "outputs": []
    },
    {
      "cell_type": "code",
      "source": [
        ""
      ],
      "metadata": {
        "id": "o2K4sK1Yua27"
      },
      "execution_count": null,
      "outputs": []
    },
    {
      "cell_type": "code",
      "source": [
        ""
      ],
      "metadata": {
        "id": "Pv3uwTGHohTh"
      },
      "execution_count": null,
      "outputs": []
    },
    {
      "cell_type": "code",
      "source": [
        ""
      ],
      "metadata": {
        "id": "0ugni_bMohX8"
      },
      "execution_count": null,
      "outputs": []
    },
    {
      "cell_type": "code",
      "source": [
        ""
      ],
      "metadata": {
        "id": "606YE38sohbX"
      },
      "execution_count": null,
      "outputs": []
    },
    {
      "cell_type": "code",
      "source": [
        ""
      ],
      "metadata": {
        "id": "IM9ZIzLaohey"
      },
      "execution_count": null,
      "outputs": []
    }
  ]
}